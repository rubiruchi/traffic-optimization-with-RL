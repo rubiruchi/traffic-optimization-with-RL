{
 "cells": [
  {
   "cell_type": "code",
   "execution_count": 3,
   "metadata": {
    "ExecuteTime": {
     "end_time": "2019-04-28T09:36:53.248619Z",
     "start_time": "2019-04-28T09:36:52.915676Z"
    }
   },
   "outputs": [],
   "source": [
    "import random\n",
    "import numpy as np\n",
    "import matplotlib.pyplot as plt\n",
    "plt.style.use('seaborn')"
   ]
  },
  {
   "cell_type": "code",
   "execution_count": 4,
   "metadata": {
    "ExecuteTime": {
     "end_time": "2019-04-28T09:36:53.750359Z",
     "start_time": "2019-04-28T09:36:53.746695Z"
    }
   },
   "outputs": [],
   "source": [
    "plt.rcParams['figure.figsize'] = (9,9)"
   ]
  },
  {
   "cell_type": "code",
   "execution_count": 5,
   "metadata": {
    "ExecuteTime": {
     "end_time": "2019-04-28T09:36:54.434857Z",
     "start_time": "2019-04-28T09:36:54.430989Z"
    }
   },
   "outputs": [],
   "source": [
    "number_of_agent = 10\n",
    "starting_box = [0.7,0.9,-0.18,0.19]\n",
    "agent_radius = 0.04"
   ]
  },
  {
   "cell_type": "code",
   "execution_count": 6,
   "metadata": {
    "ExecuteTime": {
     "end_time": "2019-04-28T09:36:54.976864Z",
     "start_time": "2019-04-28T09:36:54.971060Z"
    }
   },
   "outputs": [],
   "source": [
    "grid_hor = np.arange(starting_box[0],starting_box[1],agent_radius*2)\n",
    "grid_ver = np.arange(starting_box[2],starting_box[3],agent_radius*2)\n",
    "grid = []\n",
    "for i in grid_hor:\n",
    "    for j in grid_ver:\n",
    "        grid.append([i,j])\n",
    "grid = np.array(grid)"
   ]
  },
  {
   "cell_type": "code",
   "execution_count": 7,
   "metadata": {
    "ExecuteTime": {
     "end_time": "2019-04-28T09:36:55.742807Z",
     "start_time": "2019-04-28T09:36:55.454891Z"
    },
    "scrolled": false
   },
   "outputs": [
    {
     "data": {
      "image/png": "[encoded data removed]",
      "text/plain": [
       "<Figure size 648x648 with 1 Axes>"
      ]
     },
     "metadata": {
      "needs_background": "light"
     },
     "output_type": "display_data"
    }
   ],
   "source": [
    "plt.scatter(grid[:,0],grid[:,1]);\n",
    "plt.ylabel('Y Coordinate');\n",
    "plt.xlabel('X Coordinate');\n",
    "plt.xlim(-1,1);\n",
    "plt.ylim(-1,1);\n",
    "plt.title('Grid Positions for Agent');"
   ]
  },
  {
   "cell_type": "code",
   "execution_count": 8,
   "metadata": {
    "ExecuteTime": {
     "end_time": "2019-04-28T09:36:56.225644Z",
     "start_time": "2019-04-28T09:36:56.217664Z"
    }
   },
   "outputs": [],
   "source": [
    "def createPos(number_of_agent, starting_box=[0.7,0.9,-0.18,0.19], dist_betw=0.04):\n",
    "    grid_hor = np.arange(starting_box[0],starting_box[1],dist_betw)\n",
    "    grid_ver = np.arange(starting_box[2],starting_box[3],dist_betw)\n",
    "    grid = []\n",
    "    for i in grid_hor:\n",
    "        for j in grid_ver:\n",
    "            grid.append([i,j])\n",
    "    grid = np.array(grid)\n",
    "    sample = np.array(random.sample(grid.tolist(), k=number_of_agent))    \n",
    "    return sample"
   ]
  },
  {
   "cell_type": "code",
   "execution_count": 25,
   "metadata": {
    "ExecuteTime": {
     "end_time": "2019-04-28T09:37:21.886967Z",
     "start_time": "2019-04-28T09:37:21.715475Z"
    }
   },
   "outputs": [
    {
     "data": {
      "image/png": "[encoded data removed]",
      "text/plain": [
       "<Figure size 648x648 with 1 Axes>"
      ]
     },
     "metadata": {
      "needs_background": "light"
     },
     "output_type": "display_data"
    }
   ],
   "source": [
    "sampled_poses = createPos(10,dist_betw=agent_radius*2)\n",
    "\n",
    "plt.scatter(sampled_poses[:,0],sampled_poses[:,1]);\n",
    "plt.ylabel('Y Coordinate');\n",
    "plt.xlabel('X Coordinate');\n",
    "plt.xlim(-1,1);\n",
    "plt.ylim(-1,1);\n",
    "plt.title('Sampled Positions for Agent');"
   ]
  },
  {
   "cell_type": "code",
   "execution_count": 58,
   "metadata": {
    "ExecuteTime": {
     "end_time": "2019-04-28T06:44:55.671074Z",
     "start_time": "2019-04-28T06:44:55.665700Z"
    }
   },
   "outputs": [
    {
     "data": {
      "text/plain": [
       "array([[-0.1 , -0.9 ],\n",
       "       [-0.18, -0.74],\n",
       "       [ 0.06, -0.9 ],\n",
       "       [ 0.14, -0.9 ],\n",
       "       [ 0.06, -0.74],\n",
       "       [ 0.06, -0.82],\n",
       "       [-0.18, -0.82],\n",
       "       [-0.1 , -0.82],\n",
       "       [-0.02, -0.9 ],\n",
       "       [-0.02, -0.82]])"
      ]
     },
     "execution_count": 58,
     "metadata": {},
     "output_type": "execute_result"
    }
   ],
   "source": [
    "sampled_poses"
   ]
  },
  {
   "cell_type": "code",
   "execution_count": 47,
   "metadata": {
    "ExecuteTime": {
     "end_time": "2019-04-28T06:23:29.278981Z",
     "start_time": "2019-04-28T06:23:29.273654Z"
    }
   },
   "outputs": [
    {
     "data": {
      "text/plain": [
       "[-0.01999999999999999, -0.9]"
      ]
     },
     "execution_count": 47,
     "metadata": {},
     "output_type": "execute_result"
    }
   ],
   "source": [
    "sampled_poses.tolist().pop()"
   ]
  },
  {
   "cell_type": "code",
   "execution_count": null,
   "metadata": {},
   "outputs": [],
   "source": []
  }
 ],
 "metadata": {
  "hide_input": false,
  "kernelspec": {
   "display_name": "Python 3",
   "language": "python",
   "name": "python3"
  },
  "language_info": {
   "codemirror_mode": {
    "name": "ipython",
    "version": 3
   },
   "file_extension": ".py",
   "mimetype": "text/x-python",
   "name": "python",
   "nbconvert_exporter": "python",
   "pygments_lexer": "ipython3",
   "version": "3.7.1"
  },
  "latex_envs": {
   "LaTeX_envs_menu_present": true,
   "autoclose": false,
   "autocomplete": true,
   "bibliofile": "biblio.bib",
   "cite_by": "apalike",
   "current_citInitial": 1,
   "eqLabelWithNumbers": true,
   "eqNumInitial": 1,
   "hotkeys": {
    "equation": "Ctrl-E",
    "itemize": "Ctrl-I"
   },
   "labels_anchors": false,
   "latex_user_defs": false,
   "report_style_numbering": false,
   "user_envs_cfg": false
  },
  "toc": {
   "base_numbering": 1,
   "nav_menu": {},
   "number_sections": true,
   "sideBar": true,
   "skip_h1_title": false,
   "title_cell": "Table of Contents",
   "title_sidebar": "Contents",
   "toc_cell": false,
   "toc_position": {},
   "toc_section_display": true,
   "toc_window_display": false
  },
  "varInspector": {
   "cols": {
    "lenName": 16,
    "lenType": 16,
    "lenVar": 40
   },
   "kernels_config": {
    "python": {
     "delete_cmd_postfix": "",
     "delete_cmd_prefix": "del ",
     "library": "var_list.py",
     "varRefreshCmd": "print(var_dic_list())"
    },
    "r": {
     "delete_cmd_postfix": ") ",
     "delete_cmd_prefix": "rm(",
     "library": "var_list.r",
     "varRefreshCmd": "cat(var_dic_list()) "
    }
   },
   "types_to_exclude": [
    "module",
    "function",
    "builtin_function_or_method",
    "instance",
    "_Feature"
   ],
   "window_display": false
  }
 },
 "nbformat": 4,
 "nbformat_minor": 2
}
