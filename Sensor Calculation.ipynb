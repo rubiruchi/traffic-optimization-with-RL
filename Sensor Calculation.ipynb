{
 "cells": [
  {
   "cell_type": "markdown",
   "metadata": {},
   "source": [
    "# Sensor Calculations"
   ]
  },
  {
   "cell_type": "markdown",
   "metadata": {},
   "source": [
    "<img src=\"sensorcalculation.png\" alt=\"drawing\" width=\"400\"/>\n",
    "\n",
    "\n",
    "- Circular agent at position $(a,b)$ with a radius of 0.1 m   \n",
    "- It has 4 sensors measuring the distance in up,down,left,right directions  \n",
    "- Sensors can measure up to a limited distance (say 1m)  \n",
    "- Square walls with length 1 m  \n",
    "\n",
    "How can we calculate the sensor measurements?"
   ]
  },
  {
   "cell_type": "code",
   "execution_count": 5,
   "metadata": {
    "ExecuteTime": {
     "end_time": "2019-04-24T07:43:09.423157Z",
     "start_time": "2019-04-24T07:43:09.420236Z"
    }
   },
   "outputs": [],
   "source": [
    "# import random\n",
    "import numpy as np\n",
    "import pprint"
   ]
  },
  {
   "cell_type": "markdown",
   "metadata": {},
   "source": [
    "### Helper Functions"
   ]
  },
  {
   "cell_type": "code",
   "execution_count": 169,
   "metadata": {
    "ExecuteTime": {
     "end_time": "2019-04-24T08:39:14.601878Z",
     "start_time": "2019-04-24T08:39:14.564047Z"
    }
   },
   "outputs": [],
   "source": [
    "def getline(wall_position,wall_length):\n",
    "    # line order: left,right,down,up\n",
    "    # line format [x,y] as either fixed x or fixed y\n",
    "    line1 = np.array([wall_position[0]-wall_length/2,None],dtype='double')\n",
    "    line2 = np.array([wall_position[0]+wall_length/2,None],dtype='double')\n",
    "    line3 = np.array([None,wall_position[1]-wall_length/2],dtype='double')\n",
    "    line4 = np.array([None,wall_position[1]+wall_length/2],dtype='double')\n",
    "    \n",
    "    return([line1,line2,line3,line4])\n",
    "\n",
    "\n",
    "def getsensormeasurements_(wall_position, wall_length, agent_position, agent_radius, max_sensor_dist):\n",
    "    '''\n",
    "    Returns an array of sensor measurements (distances) in form of: [left,right,down,up]\n",
    "    '''\n",
    "    measurements = [max_sensor_dist]*4\n",
    "    #calculations start\n",
    "    [line1,line2,line3,line4] = getline(wall_position,wall_length)\n",
    "    \n",
    "    #left sensor\n",
    "    if (wall_position[1] - agent_position[1])**2 < (wall_length/2)**2:\n",
    "        dist1 = agent_position[0] - line2[0]\n",
    "        if dist1 > 0:\n",
    "            if dist1 < max_sensor_dist:\n",
    "                measurements[0] = dist1\n",
    "    \n",
    "    #right sensor\n",
    "    if (wall_position[1] - agent_position[1])**2 < (wall_length/2)**2:\n",
    "        dist2 = line1[0] - agent_position[0]\n",
    "        if dist2 > 0:\n",
    "            if dist2 < max_sensor_dist:\n",
    "                measurements[1] = dist2\n",
    "    \n",
    "    #down sensor\n",
    "    if (wall_position[0] - agent_position[0])**2 < (wall_length/2)**2:\n",
    "        dist3 = agent_position[1] - line4[1]\n",
    "        if dist3 > 0:\n",
    "            if dist3 < max_sensor_dist:\n",
    "                measurements[2] = dist3\n",
    "    \n",
    "    #up sensor\n",
    "    if (wall_position[0] - agent_position[0])**2 < (wall_length/2)**2:\n",
    "        dist4 = line3[1] - agent_position[1]\n",
    "        if dist4 > 0:\n",
    "            if dist4 < max_sensor_dist:\n",
    "                measurements[3] = dist4\n",
    "\n",
    "    #calculations end\n",
    "    return measurements\n",
    "\n",
    "def getsensormeasurements_2(other_agent_pos, agent_position, agent_radius, max_sensor_dist):\n",
    "    '''\n",
    "    Returns an array of sensor measurements (distances) in form of: [left,right,down,up]\n",
    "    Looks for other agents\n",
    "    '''\n",
    "    measurements = [max_sensor_dist]*4\n",
    "    \n",
    "    # left sensor\n",
    "    if (other_agent_pos[1] - agent_position[1])**2 < (agent_radius)**2:\n",
    "        c =  agent_position - other_agent_pos\n",
    "        b = c[0]\n",
    "        a = c[1]\n",
    "        dist1 = b - math.sqrt(agent_radius**2 - a**2) \n",
    "        if dist1 >= 0:\n",
    "            if dist1 < max_sensor_dist:\n",
    "                measurements[0] = dist1\n",
    "                \n",
    "    # right sensor\n",
    "    if (other_agent_pos[1] - agent_position[1])**2 < (agent_radius)**2:\n",
    "        c =  other_agent_pos - agent_position\n",
    "        b = c[0]\n",
    "        a = c[1]\n",
    "        dist2 = b - math.sqrt(agent_radius**2 - a**2) \n",
    "        if dist2 >= 0:\n",
    "            if dist2 < max_sensor_dist:\n",
    "                measurements[1] = dist2  \n",
    "                \n",
    "    # down sensor\n",
    "    if (other_agent_pos[0] - agent_position[0])**2 < (agent_radius)**2:\n",
    "        c =  agent_position - other_agent_pos\n",
    "        b = c[1]\n",
    "        a = c[0]\n",
    "        dist3 = b - math.sqrt(agent_radius**2 - a**2) \n",
    "        if dist3 >= 0:\n",
    "            if dist3 < max_sensor_dist:\n",
    "                measurements[2] = dist3\n",
    "    \n",
    "    # up sensor\n",
    "    if (other_agent_pos[0] - agent_position[0])**2 < (agent_radius)**2:\n",
    "        c =  other_agent_pos - agent_position\n",
    "        b = c[1]\n",
    "        a = c[0]\n",
    "        dist4 = b - math.sqrt(agent_radius**2 - a**2) \n",
    "        if dist4 >= 0:\n",
    "            if dist4 < max_sensor_dist:\n",
    "                measurements[3] = dist4   \n",
    "                \n",
    "    return measurements"
   ]
  },
  {
   "cell_type": "code",
   "execution_count": 196,
   "metadata": {
    "ExecuteTime": {
     "end_time": "2019-04-24T08:51:40.394211Z",
     "start_time": "2019-04-24T08:51:40.388178Z"
    }
   },
   "outputs": [],
   "source": [
    "def getsensormeasurements(other_agent_positions,wall_positions,wall_length,agent_position, agent_radius, max_sensor_dist):\n",
    "    '''\n",
    "    Returns an array of sensor measurements (distances) in form of: [left,right,down,up]\n",
    "    '''\n",
    "    measurements = [max_sensor_dist]*4\n",
    "    #calculations start\n",
    "    \n",
    "    meas1 = np.array([getsensormeasurements_(w_pos,wall_length,agent_position,agent_radius,max_sensor_dist) for w_pos in wall_positions]) \n",
    "    meas1_ = meas1.min(axis=0)\n",
    "    \n",
    "    meas2 = np.array([getsensormeasurements_2(o_a_pos, agent_position, agent_radius, max_sensor_dist) for o_a_pos in other_agent_positions])\n",
    "    meas2_ = meas2.min(axis=0)\n",
    "    \n",
    "  \n",
    "    pprint.pprint(meas1)\n",
    "    print('-'*30)\n",
    "    pprint.pprint(meas2)\n",
    "    \n",
    "\n",
    "    #calculations end\n",
    "    return np.vstack((meas1_,meas2_)).min(axis=0)"
   ]
  },
  {
   "cell_type": "code",
   "execution_count": 201,
   "metadata": {
    "ExecuteTime": {
     "end_time": "2019-04-24T08:52:23.436456Z",
     "start_time": "2019-04-24T08:52:23.430210Z"
    }
   },
   "outputs": [],
   "source": [
    "other_agent_positions = [np.array([-0.3,0]),np.array([0.2,0]),np.array([0,1]),np.array([0,0])]\n",
    "wall_positions    = [np.array([0,3]),np.array([0,2]),np.array([0,1]),np.array([0,0]),np.array([1,0]),np.array([2,0]),np.array([3,0])]\n",
    "wall_length       = 1\n",
    "agent_position    = np.array([0,0])\n",
    "other_agent_pos   = np.array([0.,0])\n",
    "agent_radius      = 0.1\n",
    "max_sensor_dist   = 1"
   ]
  },
  {
   "cell_type": "code",
   "execution_count": 202,
   "metadata": {
    "ExecuteTime": {
     "end_time": "2019-04-24T08:52:23.649030Z",
     "start_time": "2019-04-24T08:52:23.644047Z"
    }
   },
   "outputs": [
    {
     "data": {
      "text/plain": [
       "[1, 1, 1, 1]"
      ]
     },
     "execution_count": 202,
     "metadata": {},
     "output_type": "execute_result"
    }
   ],
   "source": [
    "getsensormeasurements_2(other_agent_pos, agent_position, agent_radius, max_sensor_dist)"
   ]
  },
  {
   "cell_type": "code",
   "execution_count": 203,
   "metadata": {
    "ExecuteTime": {
     "end_time": "2019-04-24T08:52:24.002376Z",
     "start_time": "2019-04-24T08:52:23.997057Z"
    }
   },
   "outputs": [
    {
     "data": {
      "text/plain": [
       "[1, 1, 1, 1]"
      ]
     },
     "execution_count": 203,
     "metadata": {},
     "output_type": "execute_result"
    }
   ],
   "source": [
    "getsensormeasurements_(other_agent_pos, wall_length, agent_position, agent_radius, max_sensor_dist)"
   ]
  },
  {
   "cell_type": "code",
   "execution_count": 204,
   "metadata": {
    "ExecuteTime": {
     "end_time": "2019-04-24T08:52:24.629388Z",
     "start_time": "2019-04-24T08:52:24.620520Z"
    }
   },
   "outputs": [
    {
     "name": "stdout",
     "output_type": "stream",
     "text": [
      "array([[1. , 1. , 1. , 1. ],\n",
      "       [1. , 1. , 1. , 1. ],\n",
      "       [1. , 1. , 1. , 0.5],\n",
      "       [1. , 1. , 1. , 1. ],\n",
      "       [1. , 0.5, 1. , 1. ],\n",
      "       [1. , 1. , 1. , 1. ],\n",
      "       [1. , 1. , 1. , 1. ]])\n",
      "------------------------------\n",
      "array([[0.2, 1. , 1. , 1. ],\n",
      "       [1. , 0.1, 1. , 1. ],\n",
      "       [1. , 1. , 1. , 0.9],\n",
      "       [1. , 1. , 1. , 1. ]])\n"
     ]
    },
    {
     "data": {
      "text/plain": [
       "array([0.2, 0.1, 1. , 0.5])"
      ]
     },
     "execution_count": 204,
     "metadata": {},
     "output_type": "execute_result"
    }
   ],
   "source": [
    "getsensormeasurements(other_agent_positions,wall_positions,wall_length,agent_position, agent_radius, max_sensor_dist)"
   ]
  },
  {
   "cell_type": "code",
   "execution_count": null,
   "metadata": {},
   "outputs": [],
   "source": []
  }
 ],
 "metadata": {
  "hide_input": false,
  "kernelspec": {
   "display_name": "Python 3",
   "language": "python",
   "name": "python3"
  },
  "language_info": {
   "codemirror_mode": {
    "name": "ipython",
    "version": 3
   },
   "file_extension": ".py",
   "mimetype": "text/x-python",
   "name": "python",
   "nbconvert_exporter": "python",
   "pygments_lexer": "ipython3",
   "version": "3.7.1"
  },
  "latex_envs": {
   "LaTeX_envs_menu_present": true,
   "autoclose": false,
   "autocomplete": true,
   "bibliofile": "biblio.bib",
   "cite_by": "apalike",
   "current_citInitial": 1,
   "eqLabelWithNumbers": true,
   "eqNumInitial": 1,
   "hotkeys": {
    "equation": "Ctrl-E",
    "itemize": "Ctrl-I"
   },
   "labels_anchors": false,
   "latex_user_defs": false,
   "report_style_numbering": false,
   "user_envs_cfg": false
  },
  "toc": {
   "base_numbering": 1,
   "nav_menu": {},
   "number_sections": true,
   "sideBar": true,
   "skip_h1_title": false,
   "title_cell": "Table of Contents",
   "title_sidebar": "Contents",
   "toc_cell": false,
   "toc_position": {},
   "toc_section_display": true,
   "toc_window_display": false
  },
  "varInspector": {
   "cols": {
    "lenName": 16,
    "lenType": 16,
    "lenVar": 40
   },
   "kernels_config": {
    "python": {
     "delete_cmd_postfix": "",
     "delete_cmd_prefix": "del ",
     "library": "var_list.py",
     "varRefreshCmd": "print(var_dic_list())"
    },
    "r": {
     "delete_cmd_postfix": ") ",
     "delete_cmd_prefix": "rm(",
     "library": "var_list.r",
     "varRefreshCmd": "cat(var_dic_list()) "
    }
   },
   "types_to_exclude": [
    "module",
    "function",
    "builtin_function_or_method",
    "instance",
    "_Feature"
   ],
   "window_display": false
  }
 },
 "nbformat": 4,
 "nbformat_minor": 2
}
